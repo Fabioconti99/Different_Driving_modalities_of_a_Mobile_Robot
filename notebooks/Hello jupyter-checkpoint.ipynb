{
 "cells": [
  {
   "cell_type": "code",
   "execution_count": 12,
   "id": "ba5e9838",
   "metadata": {},
   "outputs": [
    {
     "data": {
      "application/vnd.jupyter.widget-view+json": {
       "model_id": "6cb1f7c5b1f04cefb00b6454c454fadc",
       "version_major": 2,
       "version_minor": 0
      },
      "text/plain": [
       "IntSlider(value=0)"
      ]
     },
     "metadata": {},
     "output_type": "display_data"
    }
   ],
   "source": [
    "import ipywidgets as widgets\n",
    "w = widgets.IntSlider() \n",
    "display(w)\n",
    "\n",
    "c = 10 * w.value\n"
   ]
  },
  {
   "cell_type": "code",
   "execution_count": 13,
   "id": "971e98f3",
   "metadata": {},
   "outputs": [
    {
     "name": "stdout",
     "output_type": "stream",
     "text": [
      "0\n"
     ]
    }
   ],
   "source": [
    "\n",
    "print (c)"
   ]
  },
  {
   "cell_type": "code",
   "execution_count": 14,
   "id": "848591d4",
   "metadata": {},
   "outputs": [
    {
     "data": {
      "text/plain": [
       "['_dom_classes',\n",
       " '_model_module',\n",
       " '_model_module_version',\n",
       " '_model_name',\n",
       " '_view_count',\n",
       " '_view_module',\n",
       " '_view_module_version',\n",
       " '_view_name',\n",
       " 'continuous_update',\n",
       " 'description',\n",
       " 'description_tooltip',\n",
       " 'disabled',\n",
       " 'layout',\n",
       " 'max',\n",
       " 'min',\n",
       " 'orientation',\n",
       " 'readout',\n",
       " 'readout_format',\n",
       " 'step',\n",
       " 'style',\n",
       " 'value']"
      ]
     },
     "execution_count": 14,
     "metadata": {},
     "output_type": "execute_result"
    }
   ],
   "source": [
    "w.keys"
   ]
  },
  {
   "cell_type": "code",
   "execution_count": 15,
   "id": "902a368b",
   "metadata": {},
   "outputs": [
    {
     "data": {
      "application/vnd.jupyter.widget-view+json": {
       "model_id": "57b4caf9da67419da6561d0948d2a594",
       "version_major": 2,
       "version_minor": 0
      },
      "text/plain": [
       "Text(value='Hello World!', disabled=True)"
      ]
     },
     "metadata": {},
     "output_type": "display_data"
    }
   ],
   "source": [
    "widgets.Text(value='Hello World!', disabled=True)\n"
   ]
  },
  {
   "cell_type": "code",
   "execution_count": 18,
   "id": "4c9dfbdc",
   "metadata": {},
   "outputs": [
    {
     "data": {
      "application/vnd.jupyter.widget-view+json": {
       "model_id": "208e881b78ce471ab126ef8b172d4bdb",
       "version_major": 2,
       "version_minor": 0
      },
      "text/plain": [
       "FloatText(value=0.0)"
      ]
     },
     "metadata": {},
     "output_type": "display_data"
    },
    {
     "data": {
      "application/vnd.jupyter.widget-view+json": {
       "model_id": "a70953d76e654ddc94f1e92e6f06322c",
       "version_major": 2,
       "version_minor": 0
      },
      "text/plain": [
       "FloatSlider(value=0.0)"
      ]
     },
     "metadata": {},
     "output_type": "display_data"
    }
   ],
   "source": [
    "a = widgets.FloatText()\n",
    "b = widgets.FloatSlider() \n",
    "display(a,b)\n",
    "mylink = widgets.jslink((a, 'value'), (b, 'value'))"
   ]
  },
  {
   "cell_type": "code",
   "execution_count": 22,
   "id": "1e935134",
   "metadata": {},
   "outputs": [
    {
     "data": {
      "application/vnd.jupyter.widget-view+json": {
       "model_id": "b2f5263fb78e4db9987b34f5dd69b2c7",
       "version_major": 2,
       "version_minor": 0
      },
      "text/plain": [
       "Button(description='ciaooo', layout=Layout(height='80px', width='50%'), style=ButtonStyle())"
      ]
     },
     "metadata": {},
     "output_type": "display_data"
    }
   ],
   "source": [
    "from ipywidgets import Button, Layout\n",
    "b = Button(description='ciaooo', \n",
    "           layout=Layout(width='50%', height='80px'))\n",
    "b"
   ]
  },
  {
   "cell_type": "code",
   "execution_count": 27,
   "id": "718d5d0f",
   "metadata": {},
   "outputs": [
    {
     "data": {
      "application/vnd.jupyter.widget-view+json": {
       "model_id": "8c08d106117444879466146c4ebf58df",
       "version_major": 2,
       "version_minor": 0
      },
      "text/plain": [
       "GridBox(children=(Button(description='Button1', layout=Layout(grid_area='b1', width='auto'), style=ButtonStyle…"
      ]
     },
     "metadata": {},
     "output_type": "display_data"
    }
   ],
   "source": [
    "from ipywidgets import Button, Layout, ButtonStyle, GridBox, VBox, HBox \n",
    "import ipywidgets as widgets\n",
    "\n",
    "b1 = Button(description='Button1',\n",
    "            layout=Layout(width='auto', align=\"center\", grid_area='b1'),\n",
    "            style=ButtonStyle(button_color='lightblue'))\n",
    "b2 = Button(description='Button2',\n",
    "            layout=Layout(width='auto', grid_area='b2'),\n",
    "            style=ButtonStyle(button_color='moccasin'))\n",
    "b3 = Button(description='Button3',\n",
    "            layout=Layout(width='auto', grid_area='b3'),\n",
    "            style=ButtonStyle(button_color='salmon'))\n",
    "HBox([b3,VBox([b1, b2])])\n",
    "GridBox(children=[b1, b2, b3],\n",
    "        layout=Layout(\n",
    "            width='40%',\n",
    "            grid_template_rows='auto auto',\n",
    "            grid_template_columns='33% 33% 33%',\n",
    "            grid_template_areas='''\n",
    "            \"b2 b1 b3 \"\n",
    "            \". . . \"\n",
    "            ''')\n",
    "       )"
   ]
  },
  {
   "cell_type": "code",
   "execution_count": 41,
   "id": "c37f21b3",
   "metadata": {},
   "outputs": [
    {
     "data": {
      "application/vnd.jupyter.widget-view+json": {
       "model_id": "0234b86bf9f348a08da8b241f5f0cddc",
       "version_major": 2,
       "version_minor": 0
      },
      "text/plain": [
       "Output(layout=Layout(border='30px solid black'))"
      ]
     },
     "metadata": {},
     "output_type": "display_data"
    }
   ],
   "source": [
    "import ipywidgets as widgets\n",
    "out = widgets.Output(layout={'border': '30px solid black'}) \n",
    "out"
   ]
  },
  {
   "cell_type": "code",
   "execution_count": 44,
   "id": "2cd32816",
   "metadata": {},
   "outputs": [
    {
     "data": {
      "application/vnd.jupyter.widget-view+json": {
       "model_id": "2f64f1f610fb4f5a83e7cdab2a762f72",
       "version_major": 2,
       "version_minor": 0
      },
      "text/plain": [
       "HBox(children=(VBox(children=(IntSlider(value=0, description='a'), IntSlider(value=0, description='b'), IntSli…"
      ]
     },
     "metadata": {},
     "output_type": "display_data"
    }
   ],
   "source": [
    "a = widgets.IntSlider(description='a') \n",
    "b = widgets.IntSlider(description='b') \n",
    "c = widgets.IntSlider(description='c') \n",
    "\n",
    "def f(a, b, c):\n",
    "    print('{}*{}*{}={}'.format(a, b, c, a*b*c))\n",
    "out = widgets.interactive_output(f, {'a': a, 'b': b, 'c': c}) \n",
    "widgets.HBox([widgets.VBox([a, b, c]), out])"
   ]
  },
  {
   "cell_type": "code",
   "execution_count": 45,
   "id": "1a219c31",
   "metadata": {},
   "outputs": [
    {
     "data": {
      "application/vnd.jupyter.widget-view+json": {
       "model_id": "e5becd8facfb4b4fab87a73ff0c778ca",
       "version_major": 2,
       "version_minor": 0
      },
      "text/plain": [
       "Button(description='Click Me!', style=ButtonStyle())"
      ]
     },
     "metadata": {},
     "output_type": "display_data"
    },
    {
     "data": {
      "application/vnd.jupyter.widget-view+json": {
       "model_id": "56ae17c187e34c35a11baf49e6cf5d75",
       "version_major": 2,
       "version_minor": 0
      },
      "text/plain": [
       "Output()"
      ]
     },
     "metadata": {},
     "output_type": "display_data"
    }
   ],
   "source": [
    "from IPython.display import display\n",
    "button = widgets.Button(description=\"Click Me!\") \n",
    "output = widgets.Output()\n",
    "\n",
    "display(button, output)\n",
    "#handle changes, the observe method of the widget can be used to register a callback. \n",
    "def on_button_clicked(b):\n",
    "    with output: print(\"Button clicked.\")\n",
    "button.on_click(on_button_clicked)\n"
   ]
  },
  {
   "cell_type": "code",
   "execution_count": 46,
   "id": "903d72d4",
   "metadata": {},
   "outputs": [
    {
     "ename": "NameError",
     "evalue": "name 'jr' is not defined",
     "output_type": "error",
     "traceback": [
      "\u001b[0;31m---------------------------------------------------------------------------\u001b[0m",
      "\u001b[0;31mNameError\u001b[0m                                 Traceback (most recent call last)",
      "\u001b[0;32m/tmp/ipykernel_2305/3860945811.py\u001b[0m in \u001b[0;36m<module>\u001b[0;34m\u001b[0m\n\u001b[1;32m      1\u001b[0m \u001b[0;32mfrom\u001b[0m \u001b[0mturtlesim\u001b[0m\u001b[0;34m.\u001b[0m\u001b[0mmsg\u001b[0m \u001b[0;32mimport\u001b[0m \u001b[0mPose\u001b[0m\u001b[0;34m\u001b[0m\u001b[0;34m\u001b[0m\u001b[0m\n\u001b[0;32m----> 2\u001b[0;31m \u001b[0mjr\u001b[0m\u001b[0;34m.\u001b[0m\u001b[0mlive_plot\u001b[0m\u001b[0;34m(\u001b[0m\u001b[0;34m\"/turtle1/pose/:x:y\"\u001b[0m\u001b[0;34m,\u001b[0m \u001b[0mPose\u001b[0m\u001b[0;34m,\u001b[0m \u001b[0;36m10000\u001b[0m\u001b[0;34m)\u001b[0m\u001b[0;34m\u001b[0m\u001b[0;34m\u001b[0m\u001b[0m\n\u001b[0m",
      "\u001b[0;31mNameError\u001b[0m: name 'jr' is not defined"
     ]
    }
   ],
   "source": [
    "\n",
    "\n"
   ]
  },
  {
   "cell_type": "code",
   "execution_count": 48,
   "id": "d69edf5f",
   "metadata": {},
   "outputs": [
    {
     "data": {
      "application/vnd.jupyter.widget-view+json": {
       "model_id": "a238b7bf1e224a6484ea5d05c0f46bbe",
       "version_major": 2,
       "version_minor": 0
      },
      "text/plain": [
       "Figure(axes=[Axis(label='X', scale=LinearScale()), Axis(label='Y', orientation='vertical', scale=LinearScale()…"
      ]
     },
     "metadata": {},
     "output_type": "display_data"
    }
   ],
   "source": [
    "\n",
    " "
   ]
  },
  {
   "cell_type": "code",
   "execution_count": null,
   "id": "b097f386",
   "metadata": {},
   "outputs": [],
   "source": []
  }
 ],
 "metadata": {
  "hide_input": false,
  "kernelspec": {
   "display_name": "Python 3 (ipykernel)",
   "language": "python",
   "name": "python3"
  },
  "language_info": {
   "codemirror_mode": {
    "name": "ipython",
    "version": 3
   },
   "file_extension": ".py",
   "mimetype": "text/x-python",
   "name": "python",
   "nbconvert_exporter": "python",
   "pygments_lexer": "ipython3",
   "version": "3.8.5"
  }
 },
 "nbformat": 4,
 "nbformat_minor": 5
}
