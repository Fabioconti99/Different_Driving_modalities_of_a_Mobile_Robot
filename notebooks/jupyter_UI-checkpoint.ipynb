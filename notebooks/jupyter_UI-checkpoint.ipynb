{
 "cells": [
  {
   "cell_type": "code",
   "execution_count": 7,
   "id": "44a8e11e",
   "metadata": {},
   "outputs": [
    {
     "data": {
      "application/vnd.jupyter.widget-view+json": {
       "model_id": "70c0357b0b814279bdbac11c8707ce07",
       "version_major": 2,
       "version_minor": 0
      },
      "text/plain": [
       "GridBox(children=(Button(description='go to point', layout=Layout(grid_area='b1', width='auto'), style=ButtonS…"
      ]
     },
     "metadata": {},
     "output_type": "display_data"
    }
   ],
   "source": [
    "from IPython.display import display\n",
    "from ipywidgets import Button, Layout, ButtonStyle, GridBox, VBox, HBox \n",
    "import ipywidgets as widgets\n",
    "\n",
    "b1 = Button(description='Go to point',\n",
    "            layout=Layout(width='auto', align=\"center\", grid_area='b1'),\n",
    "            style=ButtonStyle(button_color='lightblue'))\n",
    "b2 = Button(description='Teleop-Key',\n",
    "            layout=Layout(width='auto', grid_area='b2'),\n",
    "            style=ButtonStyle(button_color='moccasin'))\n",
    "b3 = Button(description='Avoidance',\n",
    "            layout=Layout(width='auto', grid_area='b3'),\n",
    "            style=ButtonStyle(button_color='salmon'))\n",
    "b4 = Button(description='Quit',\n",
    "            layout=Layout(width='auto', grid_area='b4'),\n",
    "            style=ButtonStyle(button_color='lightgreen'))\n",
    "HBox([b3,b1, b2, b4])\n",
    "GridBox(children=[b1, b2, b3, b4],\n",
    "        layout=Layout(\n",
    "            width='40%',\n",
    "            grid_template_rows='auto auto',\n",
    "            grid_template_columns='33% 33% 33%',\n",
    "            grid_template_areas='''\n",
    "            \"b1 b2\"\n",
    "            \"b3 b4\"\n",
    "            ''')\n",
    "       )"
   ]
  },
  {
   "cell_type": "code",
   "execution_count": null,
   "id": "d98f5f92",
   "metadata": {},
   "outputs": [],
   "source": []
  }
 ],
 "metadata": {
  "hide_input": false,
  "kernelspec": {
   "display_name": "Python 3 (ipykernel)",
   "language": "python",
   "name": "python3"
  },
  "language_info": {
   "codemirror_mode": {
    "name": "ipython",
    "version": 3
   },
   "file_extension": ".py",
   "mimetype": "text/x-python",
   "name": "python",
   "nbconvert_exporter": "python",
   "pygments_lexer": "ipython3",
   "version": "3.8.5"
  }
 },
 "nbformat": 4,
 "nbformat_minor": 5
}
